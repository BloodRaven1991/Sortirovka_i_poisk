{
 "cells": [
  {
   "cell_type": "markdown",
   "metadata": {},
   "source": [
    "Задание 1\n",
    "Есть четыре списка целых. Необходимо их объединить\n",
    "в пятом списке. Полученный результат в зависимости от\n",
    "выбора пользователя отсортировать по убыванию или\n",
    "возрастанию. Найти значение, введенное пользователем,\n",
    "с использованием линейного поиска."
   ]
  },
  {
   "cell_type": "code",
   "execution_count": 4,
   "metadata": {},
   "outputs": [
    {
     "name": "stdout",
     "output_type": "stream",
     "text": [
      "Отсортированный список: [-4, -3, -2, -1, 0, 2, 3, 4, 5, 6, 8, 9]\n",
      "Значение 3 найдено на индексе 6.\n"
     ]
    }
   ],
   "source": [
    "list1 = [2, -1, 6]\n",
    "list2 = [3, 4, 8]\n",
    "list3 = [-3, 5, 9]\n",
    "list4 = [0, -4, -2]\n",
    "   \n",
    "list5 = list1 + list2 + list3 + list4\n",
    "\n",
    "a = input(\"Введите 'возрастание' или 'убывание': \")\n",
    "   \n",
    "if a == \"возрастание\":\n",
    "       list5.sort()\n",
    "elif a == \"убывание\":\n",
    "       list5.sort(reverse=True)\n",
    "else:\n",
    "       print(\"Неверно.\")\n",
    "\n",
    "print(\"Отсортированный список:\", list5)\n",
    "\n",
    "\n",
    "b = int(input(\"Введите значение для поиска: \"))\n",
    "   \n",
    "def linear_search(lst, value):\n",
    "    for c, element in enumerate(lst):\n",
    "        if element == value:\n",
    "            return c\n",
    "    return -1\n",
    "   \n",
    "c = linear_search(list5, b)\n",
    "   \n",
    "if c != -1:\n",
    "    print(f\"Значение {b} найдено на индексе {c}.\")\n",
    "else:\n",
    "    print(f\"Значение {b} не найдено.\")"
   ]
  }
 ],
 "metadata": {
  "kernelspec": {
   "display_name": "Python 3",
   "language": "python",
   "name": "python3"
  },
  "language_info": {
   "codemirror_mode": {
    "name": "ipython",
    "version": 3
   },
   "file_extension": ".py",
   "mimetype": "text/x-python",
   "name": "python",
   "nbconvert_exporter": "python",
   "pygments_lexer": "ipython3",
   "version": "3.12.6"
  }
 },
 "nbformat": 4,
 "nbformat_minor": 2
}
